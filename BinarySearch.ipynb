{
 "cells": [
  {
   "cell_type": "code",
   "execution_count": null,
   "id": "863329ce-f95f-48d5-9fde-71d055ddbd58",
   "metadata": {},
   "outputs": [],
   "source": [
    "class LinearList :\n",
    "    def __init__ (self,arr,data):\n",
    "        self.arr = arr\n",
    "        self.size = len(arr)\n",
    "        self.data = data\n",
    "        for i in self.arr: \n",
    "            if type(i) != data:\n",
    "                print(\"list is  not valid\")\n",
    "                exit()\n",
    "    def Display(self):\n",
    "        print(self.arr)\n",
    "                \n",
    "    def BinarySearch (self,item):\n",
    "        beg = 0\n",
    "        end = self.size\n",
    "        ele = 0\n",
    "        while beg <= end:\n",
    "            mid = (beg + end)//2\n",
    "            if self.arr[mid]==item:\n",
    "                ele = 1\n",
    "                break\n",
    "            elif self.arr[mid]<item:\n",
    "                beg = mid +1\n",
    "            else :\n",
    "                end = mid -1\n",
    "        if ele == 1:\n",
    "            print(f\"Item found at {mid}\")\n",
    "        else:\n",
    "            print(\"Item not found\")\n",
    "                \n",
    "        #else:\n",
    "                #print('Match not found')\n",
    "        \n",
    "    def Insert (self,a):\n",
    "        self.arr.append(a)\n",
    "    def Delete(self,m):\n",
    "        self.arr.remove(m)\n",
    "                "
   ]
  },
  {
   "cell_type": "code",
   "execution_count": 2,
   "id": "c01de1b2-1eca-45cc-a239-849228989efa",
   "metadata": {},
   "outputs": [
    {
     "name": "stdout",
     "output_type": "stream",
     "text": [
      "[6, 7, 4, 32, 8, 9, 7]\n",
      "Item not found\n",
      "[6, 7, 4, 32, 8, 9, 7]\n"
     ]
    }
   ],
   "source": [
    "l = [6,7,8,9,10,11,12,14,16,18]\n",
    "obj = LinearList(l,int)\n",
    "obj.Display()\n",
    "obj.BinarySearch(4)\n",
    "obj.Display()\n"
   ]
  },
  {
   "cell_type": "code",
   "execution_count": null,
   "id": "e6924baf-c392-4adb-9764-7d55a8755926",
   "metadata": {},
   "outputs": [],
   "source": []
  }
 ],
 "metadata": {
  "kernelspec": {
   "display_name": "Python 3 (ipykernel)",
   "language": "python",
   "name": "python3"
  },
  "language_info": {
   "codemirror_mode": {
    "name": "ipython",
    "version": 3
   },
   "file_extension": ".py",
   "mimetype": "text/x-python",
   "name": "python",
   "nbconvert_exporter": "python",
   "pygments_lexer": "ipython3",
   "version": "3.10.12"
  }
 },
 "nbformat": 4,
 "nbformat_minor": 5
}
