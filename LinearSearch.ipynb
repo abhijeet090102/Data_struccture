{
 "cells": [
  {
   "cell_type": "markdown",
   "id": "a2347bab-5086-4525-ac01-c180e53d232d",
   "metadata": {},
   "source": [
    "# Define LinearList class for linear Search"
   ]
  },
  {
   "cell_type": "code",
   "execution_count": 41,
   "id": "54560dd9-0622-4efd-94bb-7bc4d81a4289",
   "metadata": {},
   "outputs": [],
   "source": [
    "class LinearList :\n",
    "    def __init__ (self,arr,data):\n",
    "        self.arr = arr\n",
    "        self.size = len(arr)\n",
    "        self.data = data\n",
    "        for i in self.arr: \n",
    "            if type(i) != data:\n",
    "                print(\"list is  not valid\")\n",
    "        exit()\n",
    "    def Display(self):\n",
    "        print(self.arr)\n",
    "                \n",
    "    def LinearSearch (self,item):\n",
    "        for i in range(self.size):\n",
    "            if item == self.arr[i]:\n",
    "                #print(f'Match found ')\n",
    "                return i\n",
    "                \n",
    "        #else:\n",
    "                #print('Match not found')\n",
    "        return -1  \n",
    "    def Insert (self,a):\n",
    "        self.arr.append(a)\n",
    "    def Delete(self,m):\n",
    "        self.arr.remove(m)\n",
    "                "
   ]
  },
  {
   "cell_type": "code",
   "execution_count": 42,
   "id": "ded6905c-02a4-4735-acc3-f65baebd7813",
   "metadata": {},
   "outputs": [
    {
     "name": "stdout",
     "output_type": "stream",
     "text": [
      "list is  not valid\n",
      "[4, 5, 6, 8, 9, 4.2]\n",
      "-1\n",
      "[4, 5, 6, 8, 9, 4.2, 8]\n",
      "[4, 5, 6, 9, 4.2, 8]\n"
     ]
    }
   ],
   "source": [
    "l= LinearList([4,5,6,8,9,4.2],int)\n",
    "l.Display();\n",
    "print(l.LinearSearch(10))\n",
    "l.Insert(8);\n",
    "l.Display();\n",
    "l.Delete(8);\n",
    "l.Display();"
   ]
  },
  {
   "cell_type": "code",
   "execution_count": 29,
   "id": "c1a9a332-6d01-420d-9e68-0dff76ff598d",
   "metadata": {},
   "outputs": [],
   "source": []
  },
  {
   "cell_type": "code",
   "execution_count": 30,
   "id": "d3d7a209-5771-4db6-86cd-d5ba5332b644",
   "metadata": {},
   "outputs": [
    {
     "name": "stdout",
     "output_type": "stream",
     "text": [
      "[6, 7, 4, 32, 8, 9, 7]\n",
      "Item found\n",
      "[6, 7, 4, 32, 8, 9, 7]\n"
     ]
    }
   ],
   "source": []
  },
  {
   "cell_type": "code",
   "execution_count": null,
   "id": "43f42c38-19a1-41e6-bb64-5475458a887c",
   "metadata": {},
   "outputs": [],
   "source": []
  }
 ],
 "metadata": {
  "kernelspec": {
   "display_name": "Python 3 (ipykernel)",
   "language": "python",
   "name": "python3"
  },
  "language_info": {
   "codemirror_mode": {
    "name": "ipython",
    "version": 3
   },
   "file_extension": ".py",
   "mimetype": "text/x-python",
   "name": "python",
   "nbconvert_exporter": "python",
   "pygments_lexer": "ipython3",
   "version": "3.10.12"
  }
 },
 "nbformat": 4,
 "nbformat_minor": 5
}
